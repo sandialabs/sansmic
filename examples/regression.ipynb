{
 "cells": [
  {
   "cell_type": "markdown",
   "metadata": {},
   "source": [
    "# Regression testing for sansmic\n",
    "This Jupyter Notebook provides regression testing for sansmic. The results of a the \"baseline.dat\" input file are stored in a JSON formatted file in this directory (\"baseline.json\") and in the \"baseline.tst\" file directly output from the SANSMIC V02.02 code. Version (V02.02) contains two minor changes by @dbhart: (a) fixed incorrect value for the conversion of barrels to cubic feet that has been present in the V02.01 code since at least 2014, and more likely since at least 1991, and (b) change the output to be based on the number of steps rather than the error-accumulating TIMET variable. Aside from the fix of the conversion factor, the internals of the FORTRAN have remained unmodified since it was validated by Weber, Lord, and Rudeen.\n",
    "\n",
    "This notebook compares the outputs of ``sansmic>=1.0.0`` to the outputs of ``SANSMIC==02.02.2024``."
   ]
  },
  {
   "cell_type": "markdown",
   "metadata": {},
   "source": [
    "## Initialize and load the baseline configuration"
   ]
  },
  {
   "cell_type": "code",
   "execution_count": 1,
   "metadata": {},
   "outputs": [],
   "source": [
    "import sansmic\n",
    "import numpy as np\n",
    "import matplotlib.pylab as plt\n",
    "\n",
    "model = sansmic.io.read_scenario(\"baseline.dat\")\n",
    "tstF = sansmic.io.read_tst_file(\"baseline\")\n",
    "resF = sansmic.io.read_json_results(\"baseline.json\")"
   ]
  },
  {
   "cell_type": "markdown",
   "metadata": {},
   "source": [
    "Note that there are three warnings regarding the cavern specific gravity. A discrepancy between the old documentation and the actual code was discovered while preparing the new sansmic-1.0 package; documentation states that the \"REPEAT\" option would keep the final concentration of the specific gravity from the previous stage -- it did not. The actual switch was for the cavern sg to be set to 1.0 or less. The behavior of the scenario reader is to respect what is in the documentation, not what appears to have been a bug.\n",
    "\n",
    "To check the scenario reader, write the model to a new-style TOML-formatted file and then read it back in and print it."
   ]
  },
  {
   "cell_type": "code",
   "execution_count": null,
   "metadata": {},
   "outputs": [],
   "source": [
    "# Write the new-style config file and print it back out\n",
    "new_config = \"regression.toml\"\n",
    "sansmic.io.write_scenario(model, new_config)\n",
    "with open(new_config, \"r\") as fin:\n",
    "    for line in fin.readlines():\n",
    "        print(line.strip())"
   ]
  },
  {
   "cell_type": "markdown",
   "metadata": {},
   "source": [
    "The file reader does not automatically optimize the scenario with default values, but this scenario uses the same tubing diameters, solver timesteps, and save frequency values for every stage. By adding these as default values, the writer will remove the repeated values when the file is written next time. The geometry, which is a very long list, can be moved to an external file to make the scenario more readable."
   ]
  },
  {
   "cell_type": "code",
   "execution_count": null,
   "metadata": {},
   "outputs": [],
   "source": [
    "# Add default values and move initial geometry to a file\n",
    "model.defaults[\"solver-timestep\"] = 0.01\n",
    "model.defaults[\"save-frequency\"] = 2400\n",
    "model.defaults[\"inner-tbg-inside-diam\"] = 9.85\n",
    "model.defaults[\"inner-tbg-outside-diam\"] = 10.75\n",
    "model.defaults[\"outer-csg-inside-diam\"] = 9.85\n",
    "model.defaults[\"outer-csg-outside-diam\"] = 10.75\n",
    "geom_file = \"regression.geom\"\n",
    "print(model.geometry_data)\n",
    "with open(geom_file, \"w\") as fout:\n",
    "    for value in model.geometry_data[\"radii\"]:\n",
    "        fout.write(\"{}\\n\".format(value))\n",
    "model.geometry_data = geom_file\n",
    "\n",
    "# Rewrite the new config file and read it back in\n",
    "sansmic.io.write_scenario(model, new_config)\n",
    "with open(new_config, \"r\") as fin:\n",
    "    for line in fin.readlines():\n",
    "        print(line.strip())"
   ]
  },
  {
   "cell_type": "markdown",
   "metadata": {},
   "source": [
    "## Run the regression model"
   ]
  },
  {
   "cell_type": "code",
   "execution_count": 4,
   "metadata": {},
   "outputs": [],
   "source": [
    "with model.new_simulation(\n",
    "    prefix=\"regression\", generate_out_file=False, generate_tst_file=True\n",
    ") as sim:\n",
    "    sim.run_sim()\n",
    "resPy = sim.results\n",
    "tstPy = sansmic.io.read_tst_file(\"regression\")"
   ]
  },
  {
   "cell_type": "markdown",
   "metadata": {},
   "source": [
    "## Compare the results"
   ]
  },
  {
   "cell_type": "code",
   "execution_count": null,
   "metadata": {},
   "outputs": [],
   "source": [
    "plt.subplot(2, 1, 1)\n",
    "plt.title(\"Brine density (output or in OBI cell)\")\n",
    "plt.plot(tstF.t_d, tstF.sg_out, label=\"F-SMC\", marker=\".\")\n",
    "plt.plot(tstPy.t_d, tstPy.sg_out, label=\"py-smc\")\n",
    "plt.ylabel(\"density / sg)\")\n",
    "plt.grid()\n",
    "_ = plt.legend()\n",
    "plt.subplot(2, 1, 2)\n",
    "plt.plot(tstF.t_d, tstF.sg_out - tstPy.sg_out, label=\"F - py\")\n",
    "plt.ylabel(\"difference / sg)\")\n",
    "plt.xlabel(\"simulation time / d\")\n",
    "plt.grid()\n",
    "_ = plt.legend()"
   ]
  },
  {
   "cell_type": "code",
   "execution_count": null,
   "metadata": {},
   "outputs": [],
   "source": [
    "plt.subplot(2, 1, 1)\n",
    "plt.title(\"Average cavern brine density\")\n",
    "plt.plot(tstF.t_d, tstF.sg_ave, label=\"F-SMC\", marker=\".\")\n",
    "plt.plot(tstPy.t_d, tstPy.sg_ave, label=\"py-smc\")\n",
    "plt.ylabel(\"density / sg\")\n",
    "plt.grid()\n",
    "_ = plt.legend()\n",
    "plt.subplot(2, 1, 2)\n",
    "plt.plot(tstF.t_d, tstF.sg_ave - tstPy.sg_ave, label=\"F - py\")\n",
    "plt.ylabel(\"difference / sg\")\n",
    "plt.xlabel(\"simulation time / d\")\n",
    "plt.grid()\n",
    "_ = plt.legend()"
   ]
  },
  {
   "cell_type": "code",
   "execution_count": null,
   "metadata": {},
   "outputs": [],
   "source": [
    "plt.subplot(2, 1, 1)\n",
    "plt.title(\"OBI depth\")\n",
    "plt.plot(tstF.t_d, tstF.z_obi, label=\"F-SMC\", marker=\".\")\n",
    "plt.plot(tstPy.t_d, tstPy.z_obi, label=\"py-smc\")\n",
    "plt.ylabel(\"depth / ft MD\")\n",
    "plt.ylim(3600, 3250)\n",
    "plt.grid()\n",
    "_ = plt.legend()\n",
    "plt.subplot(2, 1, 2)\n",
    "plt.plot(tstF.t_d, tstF.z_obi - tstPy.z_obi, label=\"F - py\")\n",
    "plt.ylabel(\"difference / ft\")\n",
    "plt.xlabel(\"simulation time / d\")\n",
    "plt.grid()\n",
    "_ = plt.legend()"
   ]
  },
  {
   "cell_type": "code",
   "execution_count": null,
   "metadata": {},
   "outputs": [],
   "source": [
    "plt.subplot(2, 1, 1)\n",
    "plt.title(\"Insoluble materials vented\")\n",
    "plt.plot(\n",
    "    tstF.t_d,\n",
    "    tstF.V_vented * sansmic.model.Units.cubic_foot() / sansmic.model.Units.barrel(),\n",
    "    label=\"F-SMC\",\n",
    "    marker=\".\",\n",
    ")\n",
    "plt.plot(\n",
    "    tstPy.t_d,\n",
    "    tstPy.V_vented * sansmic.model.Units.cubic_foot() / sansmic.model.Units.barrel(),\n",
    "    label=\"py-smc\",\n",
    ")\n",
    "plt.ylabel(\"cumulative volume / cu ft\")\n",
    "plt.grid()\n",
    "_ = plt.legend()\n",
    "plt.subplot(2, 1, 2)\n",
    "plt.plot(\n",
    "    tstF.t_d,\n",
    "    (tstF.V_vented - tstPy.V_vented)\n",
    "    * sansmic.model.Units.cubic_foot()\n",
    "    / sansmic.model.Units.barrel(),\n",
    "    label=\"F - py\",\n",
    "    marker=\".\",\n",
    ")\n",
    "plt.ylabel(\"difference / cu ft\")\n",
    "plt.xlabel(\"simulation time / d\")\n",
    "plt.grid()\n",
    "_ = plt.legend()"
   ]
  },
  {
   "cell_type": "code",
   "execution_count": null,
   "metadata": {},
   "outputs": [],
   "source": [
    "plt.subplot(2, 1, 1)\n",
    "plt.title(\"Top of insoluble deposit / current cavern TD\")\n",
    "plt.plot(tstF.t_d, tstF.z_insol, label=\"F-SMC\", marker=\".\")\n",
    "plt.plot(tstPy.t_d, tstPy.z_insol, label=\"py-smc\")\n",
    "plt.ylabel(\"depth / ft MD\")\n",
    "plt.ylim(4001, 3976)\n",
    "plt.grid()\n",
    "_ = plt.legend()\n",
    "plt.subplot(2, 1, 2)\n",
    "plt.plot(tstF.t_d, tstF.z_insol - tstPy.z_insol, label=\"F - py\", marker=\".\")\n",
    "plt.ylabel(\"difference / ft\")\n",
    "plt.xlabel(\"simulation time / d\")\n",
    "plt.grid()\n",
    "_ = plt.legend()"
   ]
  },
  {
   "cell_type": "code",
   "execution_count": null,
   "metadata": {},
   "outputs": [],
   "source": [
    "plt.subplot(2, 1, 1)\n",
    "plt.title(\"Insoluble material deposited\")\n",
    "plt.plot(tstF.t_d, tstF.V_insol, label=\"F-SMC\", marker=\".\")\n",
    "plt.plot(resPy.time, resPy.df_t_1D.V_insol, label=\"py-smc\")\n",
    "plt.ylabel(\"cumulative volume / bbl\")\n",
    "plt.grid()\n",
    "_ = plt.legend()\n",
    "plt.subplot(2, 1, 2)\n",
    "plt.plot(tstF.t_d, tstF.V_insol - tstPy.V_insol, label=\"F - py\", marker=\".\")\n",
    "plt.ylabel(\"difference / bbl\")\n",
    "plt.xlabel(\"simulation time / d\")\n",
    "plt.grid()\n",
    "_ = plt.legend()"
   ]
  },
  {
   "cell_type": "code",
   "execution_count": null,
   "metadata": {},
   "outputs": [],
   "source": [
    "plt.title(\"ODE Solver Convergence\")\n",
    "plt.plot(tstF.t_d, np.log10(tstF.err_ode), label=\"F-SMC (.tst)\", marker=\".\")\n",
    "plt.plot(tstPy.t_d, np.log10(tstPy.err_ode), label=\"py-smc (.tst)\")\n",
    "plt.plot(resPy.time, np.log10(resPy.df_t_1D.err_ode), label=\"py-smc (sim.results)\")\n",
    "plt.ylabel(\"log-10 convergence factor\")\n",
    "plt.xlabel(\"simulation time / d\")\n",
    "plt.grid()\n",
    "_ = plt.legend()"
   ]
  },
  {
   "cell_type": "code",
   "execution_count": null,
   "metadata": {},
   "outputs": [],
   "source": [
    "plt.subplot(2, 1, 1)\n",
    "plt.title(\"Total cavern volume\")\n",
    "plt.plot(tstF.t_d, tstF.V_cav / 1000000, label=\"F-SMC\", marker=\".\")\n",
    "plt.plot(tstPy.t_d, tstPy.V_cav / 1000000, label=\"py-smc\")\n",
    "plt.ylabel(\"volume / MMbbl\")\n",
    "plt.grid()\n",
    "_ = plt.legend()\n",
    "plt.subplot(2, 1, 2)\n",
    "plt.plot(tstF.t_d, (tstF.V_cav - tstPy.V_cav), label=\"F - py\", marker=\".\")\n",
    "plt.ylabel(\"difference /   bbl\")\n",
    "plt.xlabel(\"simulation time / d\")\n",
    "plt.grid()\n",
    "_ = plt.legend()"
   ]
  },
  {
   "cell_type": "code",
   "execution_count": null,
   "metadata": {},
   "outputs": [],
   "source": [
    "plt.subplot(2, 1, 1)\n",
    "plt.title(\"Injection and fill volumes\")\n",
    "plt.plot(tstF.t_d, tstF.V_inj / 1000000, label=\"F-SMC: inj.\", marker=\".\")\n",
    "plt.plot(tstF.t_d, tstF.V_fill / 1000000, label=\"F-SMC: fill\", marker=\".\")\n",
    "plt.plot(tstPy.t_d, tstPy.V_inj / 1000000, label=\"py-smc: inj.\")\n",
    "plt.plot(tstPy.t_d, tstPy.V_fill / 1000000, label=\"py-smc: fill\")\n",
    "plt.ylabel(\"cumulative volume / MMbbl\")\n",
    "plt.grid()\n",
    "_ = plt.legend()\n",
    "plt.subplot(2, 1, 2)\n",
    "plt.plot(tstF.t_d, (tstF.V_inj - tstPy.V_inj), label=\"F - py: inj.\", marker=\".\")\n",
    "plt.plot(tstF.t_d, (tstF.V_fill - tstPy.V_fill), label=\"F - py: fill\", marker=\".\")\n",
    "plt.ylabel(\"difference /   bbl\")\n",
    "plt.xlabel(\"simulation time / d\")\n",
    "plt.grid()\n",
    "_ = plt.legend()"
   ]
  },
  {
   "cell_type": "code",
   "execution_count": null,
   "metadata": {},
   "outputs": [],
   "source": [
    "plt.subplot(2, 1, 1)\n",
    "plt.title(\"Raw water/brine injection rate\")\n",
    "plt.plot(tstF.t_d, tstF.Q_inj / 24000, label=\"F-SMC\", marker=\".\")\n",
    "plt.plot(tstPy.t_d, tstPy.Q_inj / 24000, label=\"py-smc\")\n",
    "plt.ylabel(\"flow rate / Mbbl/h\")\n",
    "plt.grid()\n",
    "_ = plt.legend()\n",
    "plt.subplot(2, 1, 2)\n",
    "plt.plot(tstF.t_d, (tstF.Q_inj - tstPy.Q_inj) / 24, label=\"F - py\", marker=\".\")\n",
    "plt.ylabel(\"difference /  bbl/h\")\n",
    "plt.xlabel(\"simulation time / d\")\n",
    "plt.grid()\n",
    "_ = plt.legend()\n",
    "plt.figure()\n",
    "plt.subplot(2, 1, 1)\n",
    "plt.title(\"Product fill/withdrawal rate\")\n",
    "plt.plot(tstF.t_d, tstF.Q_fill / 24000, label=\"F-SMC\", marker=\".\")\n",
    "plt.plot(tstPy.t_d, tstPy.Q_fill / 24000, label=\"py-smc\")\n",
    "plt.ylabel(\"flow rate / Mbbl/h\")\n",
    "plt.grid()\n",
    "_ = plt.legend()\n",
    "plt.subplot(2, 1, 2)\n",
    "plt.plot(tstF.t_d, (tstF.Q_fill - tstPy.Q_fill) / 24, label=\"F - py\", marker=\".\")\n",
    "plt.ylabel(\"difference /  bbl/h\")\n",
    "plt.xlabel(\"simulation time / d\")\n",
    "plt.grid()\n",
    "_ = plt.legend()"
   ]
  },
  {
   "cell_type": "code",
   "execution_count": null,
   "metadata": {},
   "outputs": [],
   "source": [
    "Stats = sansmic.model.pd.DataFrame.from_dict(\n",
    "    dict(\n",
    "        rmse=np.sqrt(np.mean((tstF - tstPy) ** 2, 0)),\n",
    "        min_F=tstF.min(),\n",
    "        min_Py=tstPy.min(),\n",
    "        max_F=tstF.max(),\n",
    "        max_Py=tstPy.max(),\n",
    "    )\n",
    ")\n",
    "Stats"
   ]
  },
  {
   "cell_type": "code",
   "execution_count": null,
   "metadata": {},
   "outputs": [],
   "source": [
    "logStats = np.log10(abs(Stats))\n",
    "finalDigit = (np.power(10, logStats[\"rmse\"] - logStats[\"max_F\"]) * 1000000 // 10) / 10\n",
    "finalDigit.name = \"average difference in last of 5 digits\"\n",
    "finalDigit.astype(int)"
   ]
  },
  {
   "cell_type": "markdown",
   "metadata": {},
   "source": [
    "The average difference in the last digit printed is shown above as D in ``X.XXXDe±XX``. Values less than 2.0 indicate the average difference is less than the FORTAN-SANSMIC program's output accuracy."
   ]
  },
  {
   "cell_type": "markdown",
   "metadata": {},
   "source": [
    "## Full output differences"
   ]
  },
  {
   "cell_type": "code",
   "execution_count": null,
   "metadata": {},
   "outputs": [],
   "source": [
    "plt.subplot(1, 3, 1)\n",
    "plt.title(\"F-SMC\")\n",
    "plt.plot(resF.radius[0], resF.depths, label=\"1 d\")\n",
    "plt.plot(resF.radius[29], resF.depths, label=\"30 d\")\n",
    "plt.plot(resF.radius[59], resF.depths, label=\"60 d\")\n",
    "plt.plot(resF.radius[89], resF.depths, label=\"90 d\")\n",
    "plt.plot(resF.radius[119], resF.depths, label=\"120 d\")\n",
    "plt.ylim(4050, 2950)\n",
    "plt.ylabel(\"depth / ft MD\")\n",
    "plt.xlabel(\"radius / ft\")\n",
    "plt.grid()\n",
    "plt.subplot(1, 3, 2)\n",
    "plt.title(\"py-smc\")\n",
    "plt.plot(resPy.radius[1], resPy.depths, label=\"1 d\")\n",
    "plt.plot(resPy.radius[30], resPy.depths, label=\"30 d\")\n",
    "plt.plot(resPy.radius[60], resPy.depths, label=\"60 d\")\n",
    "plt.plot(resPy.radius[90], resPy.depths, label=\"90 d\")\n",
    "plt.plot(resPy.radius[120], resPy.depths, label=\"120 d\")\n",
    "plt.ylim(4050, 2950)\n",
    "plt.xlabel(\"radius / ft\")\n",
    "plt.grid()\n",
    "plt.yticks([4000, 3800, 3600, 3400, 3200, 3000], [\"\", \"\", \"\", \"\", \"\", \"\"])\n",
    "plt.subplot(1, 3, 3)\n",
    "plt.title(\"F - py\")\n",
    "plt.plot(resF.radius[0] - resPy.radius[1], resF.depths, label=\"Init\")\n",
    "plt.plot(resF.radius[29] - resPy.radius[30], resF.depths, label=\"End 1\")\n",
    "plt.plot(resF.radius[59] - resPy.radius[60], resF.depths, label=\"End 2\")\n",
    "plt.plot(resF.radius[89] - resPy.radius[90], resF.depths, label=\"End 3\")\n",
    "plt.plot(resF.radius[119] - resPy.radius[120], resF.depths, label=\"End 4\")\n",
    "plt.legend()\n",
    "plt.ylim(4050, 2950)\n",
    "plt.yticks([4000, 3800, 3600, 3400, 3200, 3000], [\"\", \"\", \"\", \"\", \"\", \"\"])\n",
    "plt.grid()\n",
    "_ = plt.xlabel(\"delta r / ft\")"
   ]
  },
  {
   "cell_type": "code",
   "execution_count": null,
   "metadata": {},
   "outputs": [],
   "source": [
    "plt.subplot(2, 3, 1)\n",
    "plt.imshow(resF.cell_sg)\n",
    "plt.title(\"F-SMC\")\n",
    "plt.ylim(0, 100)\n",
    "plt.ylabel(\"depth / ft MD\")\n",
    "plt.xlabel(\"time / d\")\n",
    "plt.yticks([0, 20, 40, 60, 80, 100], labels=[\"4000\", \"3800\", \"3600\", \"3400\", \"3200\", \"3000\"])\n",
    "plt.colorbar(label=\"specific gravity\")\n",
    "plt.set_cmap(\"Blues_r\")\n",
    "plt.subplot(2, 3, 3)\n",
    "plt.imshow(resPy.cell_sg)\n",
    "plt.title(\"py-smc\")\n",
    "plt.ylim(0, 100)\n",
    "plt.ylabel(\"depth / ft MD\")\n",
    "plt.xlabel(\"time / d\")\n",
    "plt.yticks([0, 20, 40, 60, 80, 100], labels=[\"4000\", \"3800\", \"3600\", \"3400\", \"3200\", \"3000\"])\n",
    "plt.colorbar(label=\"specific gravity\")\n",
    "plt.set_cmap(\"Blues_r\")\n",
    "plt.subplot(2, 3, 5)\n",
    "plt.imshow(\n",
    "    resF.cell_sg.iloc[:, :].T.reset_index(drop=True).T\n",
    "    - resPy.cell_sg.iloc[:, 1:].T.reset_index(drop=True).T\n",
    ")\n",
    "plt.title(\"F - py\")\n",
    "plt.ylim(0, 100)\n",
    "plt.ylabel(\"depth / ft MD\")\n",
    "plt.xlabel(\"time / d\")\n",
    "plt.yticks([0, 20, 40, 60, 80, 100], labels=[\"4000\", \"3800\", \"3600\", \"3400\", \"3200\", \"3000\"])\n",
    "plt.colorbar(label=\"difference in specific gravity\")\n",
    "plt.clim(-0.005, 0.005)\n",
    "plt.set_cmap(\"RdGy\")"
   ]
  },
  {
   "cell_type": "code",
   "execution_count": null,
   "metadata": {},
   "outputs": [],
   "source": [
    "plt.subplot(2, 3, 1)\n",
    "plt.imshow(resF.plume_radius)\n",
    "plt.title(\"F-SMC\")\n",
    "plt.ylim(0, 100)\n",
    "plt.ylabel(\"depth / ft MD\")\n",
    "plt.xlabel(\"time / d\")\n",
    "plt.yticks([0, 20, 40, 60, 80, 100], labels=[\"4000\", \"3800\", \"3600\", \"3400\", \"3200\", \"3000\"])\n",
    "plt.colorbar(label=\"plume radius / ft\")\n",
    "plt.set_cmap(\"Blues\")\n",
    "plt.subplot(2, 3, 3)\n",
    "plt.imshow(resPy.plume_radius)\n",
    "plt.title(\"py-smc\")\n",
    "plt.ylim(0, 100)\n",
    "plt.ylabel(\"depth / ft MD\")\n",
    "plt.xlabel(\"time / d\")\n",
    "plt.yticks([0, 20, 40, 60, 80, 100], labels=[\"4000\", \"3800\", \"3600\", \"3400\", \"3200\", \"3000\"])\n",
    "plt.colorbar(label=\"plume radius / ft\")\n",
    "plt.set_cmap(\"Blues\")\n",
    "plt.subplot(2, 3, 5)\n",
    "plt.imshow(\n",
    "    resF.plume_radius.iloc[:, :].T.reset_index(drop=True).T\n",
    "    - resPy.plume_radius.iloc[:, 1:].T.reset_index(drop=True).T\n",
    ")\n",
    "plt.title(\"F - py\")\n",
    "plt.ylim(0, 100)\n",
    "plt.ylabel(\"depth / ft MD\")\n",
    "plt.xlabel(\"time / d\")\n",
    "plt.yticks([0, 20, 40, 60, 80, 100], labels=[\"4000\", \"3800\", \"3600\", \"3400\", \"3200\", \"3000\"])\n",
    "plt.colorbar(label=\"difference in plume radius / ft\")\n",
    "plt.clim(-50, 50)\n",
    "plt.set_cmap(\"RdGy\")"
   ]
  },
  {
   "cell_type": "code",
   "execution_count": null,
   "metadata": {},
   "outputs": [],
   "source": [
    "plt.subplot(2, 3, 1)\n",
    "plt.imshow(resF.effective_diffusion_coefficient)\n",
    "plt.title(\"F-SMC\")\n",
    "plt.ylim(0, 100)\n",
    "plt.ylabel(\"depth / ft MD\")\n",
    "plt.xlabel(\"time / d\")\n",
    "plt.yticks([0, 20, 40, 60, 80, 100], labels=[\"4000\", \"3800\", \"3600\", \"3400\", \"3200\", \"3000\"])\n",
    "plt.colorbar(label=\"D\")\n",
    "plt.set_cmap(\"Blues\")\n",
    "plt.subplot(2, 3, 3)\n",
    "plt.imshow(resPy.effective_diffusion_coefficient)\n",
    "plt.title(\"py-smc\")\n",
    "plt.ylim(0, 100)\n",
    "plt.ylabel(\"depth / ft MD\")\n",
    "plt.xlabel(\"time / d\")\n",
    "plt.yticks([0, 20, 40, 60, 80, 100], labels=[\"4000\", \"3800\", \"3600\", \"3400\", \"3200\", \"3000\"])\n",
    "plt.colorbar(label=\"D\")\n",
    "plt.set_cmap(\"Blues\")\n",
    "plt.subplot(2, 3, 5)\n",
    "plt.imshow(\n",
    "    resF.effective_diffusion_coefficient.iloc[:, :].T.reset_index(drop=True).T\n",
    "    - resPy.effective_diffusion_coefficient.iloc[:, 1:].T.reset_index(drop=True).T\n",
    ")\n",
    "plt.title(\"F - py\")\n",
    "plt.ylim(0, 100)\n",
    "plt.ylabel(\"depth / ft MD\")\n",
    "plt.xlabel(\"time / d\")\n",
    "plt.yticks([0, 20, 40, 60, 80, 100], labels=[\"4000\", \"3800\", \"3600\", \"3400\", \"3200\", \"3000\"])\n",
    "plt.colorbar(label=\"difference in D\")\n",
    "plt.set_cmap(\"RdGy\")"
   ]
  },
  {
   "cell_type": "code",
   "execution_count": null,
   "metadata": {},
   "outputs": [],
   "source": [
    "plt.subplot(2, 3, 1)\n",
    "plt.imshow(resF.radius)\n",
    "plt.title(\"F-SMC\")\n",
    "plt.ylim(0, 100)\n",
    "plt.ylabel(\"depth / ft MD\")\n",
    "plt.xlabel(\"time / d\")\n",
    "plt.yticks([0, 20, 40, 60, 80, 100], labels=[\"4000\", \"3800\", \"3600\", \"3400\", \"3200\", \"3000\"])\n",
    "plt.colorbar(label=\"cavern radius / ft\")\n",
    "plt.set_cmap(\"Blues\")\n",
    "plt.subplot(2, 3, 3)\n",
    "plt.imshow(resPy.radius)\n",
    "plt.title(\"py-smc\")\n",
    "plt.ylim(0, 100)\n",
    "plt.ylabel(\"depth / ft MD\")\n",
    "plt.xlabel(\"time / d\")\n",
    "plt.yticks([0, 20, 40, 60, 80, 100], labels=[\"4000\", \"3800\", \"3600\", \"3400\", \"3200\", \"3000\"])\n",
    "plt.colorbar(label=\"cavern radius / ft\")\n",
    "plt.set_cmap(\"Blues\")\n",
    "plt.subplot(2, 3, 5)\n",
    "plt.imshow(\n",
    "    resF.radius.iloc[:, :].T.reset_index(drop=True).T\n",
    "    - resPy.radius.iloc[:, 1:].T.reset_index(drop=True).T\n",
    ")\n",
    "plt.title(\"F - py\")\n",
    "plt.ylim(0, 100)\n",
    "plt.ylabel(\"depth / ft MD\")\n",
    "plt.xlabel(\"time / d\")\n",
    "plt.yticks([0, 20, 40, 60, 80, 100], labels=[\"4000\", \"3800\", \"3600\", \"3400\", \"3200\", \"3000\"])\n",
    "plt.colorbar(label=\"difference in cavern radius / ft\")\n",
    "plt.clim(-0.6, 0.6)\n",
    "plt.set_cmap(\"RdGy\")"
   ]
  },
  {
   "cell_type": "code",
   "execution_count": null,
   "metadata": {},
   "outputs": [],
   "source": []
  }
 ],
 "metadata": {
  "kernelspec": {
   "display_name": "Python 3",
   "language": "python",
   "name": "python3"
  },
  "language_info": {
   "codemirror_mode": {
    "name": "ipython",
    "version": 3
   },
   "file_extension": ".py",
   "mimetype": "text/x-python",
   "name": "python",
   "nbconvert_exporter": "python",
   "pygments_lexer": "ipython3",
   "version": "3.12.1"
  }
 },
 "nbformat": 4,
 "nbformat_minor": 2
}
