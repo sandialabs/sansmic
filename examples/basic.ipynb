{
 "cells": [
  {
   "cell_type": "markdown",
   "metadata": {},
   "source": [
    "## Basic demonstration of sansmic\n",
    "The following examples show a withdrawal of 1 MMbbl from an approx. 10 MMbbl cavern over 10 days, followed by a 45 day rest period. The first example shows how to load and run from an existing DAT-format file. The second example shows how to build the same scenario from scratch.\n",
    "\n",
    "### Setup\n",
    "After installing sansmic, import the ``sansmic`` module. If you need other packages, import them as well."
   ]
  },
  {
   "cell_type": "code",
   "execution_count": 1,
   "metadata": {},
   "outputs": [],
   "source": [
    "import sansmic\n",
    "import numpy as np\n",
    "import pandas as pd\n",
    "import matplotlib.pyplot as plt"
   ]
  },
  {
   "cell_type": "markdown",
   "metadata": {},
   "source": [
    "### Using an existing SANSMIC DAT file\n",
    "\n",
    "If you have an existing file, such as the provided example called ``old.dat``, then you can just read it in to create a new scenario object. You can look at the object in dictionary format to see how it was imported."
   ]
  },
  {
   "cell_type": "code",
   "execution_count": null,
   "metadata": {},
   "outputs": [],
   "source": [
    "# Read in the old .DAT file\n",
    "test1scen = sansmic.io.read_scenario(\"old.dat\")\n",
    "\n",
    "# write a new-style TOML file and print it to check it out\n",
    "sansmic.io.write_scenario(test1scen, \"converted.toml\")\n",
    "with open(\"converted.toml\", \"r\") as fin:\n",
    "    for line in fin.readlines():\n",
    "        print(line.strip())"
   ]
  },
  {
   "cell_type": "markdown",
   "metadata": {},
   "source": [
    "To run the simulation in batch mode, simply create a new simulation and then run it. The results are stored in the ``results`` attribute of the simulation object."
   ]
  },
  {
   "cell_type": "code",
   "execution_count": 3,
   "metadata": {},
   "outputs": [],
   "source": [
    "with test1scen.new_simulation(\"converted\") as sim1:\n",
    "    sim1.run_sim()\n",
    "test1results = sim1.results"
   ]
  },
  {
   "cell_type": "code",
   "execution_count": null,
   "metadata": {},
   "outputs": [],
   "source": [
    "test1results.df_t_1D.V_cav.plot()"
   ]
  },
  {
   "cell_type": "code",
   "execution_count": 5,
   "metadata": {},
   "outputs": [],
   "source": [
    "test2scen = sansmic.model.Scenario(\n",
    "    title=\"Simple example\",\n",
    "    cavern_height=2000.0,  # z-domain = [0, 1000] ft\n",
    "    floor_depth=4000.0,  # TD = 4000 ft MD\n",
    "    num_cells=200,  # 200 cells (10 ft high)\n",
    ")\n",
    "test2scen.insolubles_ratio = 0.04\n",
    "test2scen.geometry_format = sansmic.model.GeometryFormat.RADIUS_LIST\n",
    "radii = np.array([100] * 201)  # 100 ft radius for the bulk of the cavern\n",
    "radii[0] = 50\n",
    "radii[1] = 90\n",
    "radii[187] = 88\n",
    "radii[188] = 45\n",
    "radii[189] = 15\n",
    "radii[190] = 8\n",
    "radii[191] = 5\n",
    "radii[192:] = 2"
   ]
  },
  {
   "cell_type": "markdown",
   "metadata": {},
   "source": [
    "Having the geometry data in the data structure makes it cumbersome to view it. So let's save the data in a file instead."
   ]
  },
  {
   "cell_type": "code",
   "execution_count": 6,
   "metadata": {},
   "outputs": [],
   "source": [
    "# If you wanted to keep the data directly with the configuration,\n",
    "# you would uncomment the line below and comment out the rest.\n",
    "#\n",
    "# test2scen.geometry_data = dict(radii=radii.tolist())\n",
    "\n",
    "with open(\"scratch.geom\", \"w\") as fout:\n",
    "    for v in radii:\n",
    "        fout.write(\"{}\\n\".format(v))\n",
    "test2scen.geometry_data = \"scratch.geom\""
   ]
  },
  {
   "cell_type": "markdown",
   "metadata": {},
   "source": [
    "Now we add a leaching stage. Remeber that when creating a new stage it automatically adds it also."
   ]
  },
  {
   "cell_type": "code",
   "execution_count": 7,
   "metadata": {},
   "outputs": [],
   "source": [
    "stage1 = test2scen.new_stage()"
   ]
  },
  {
   "cell_type": "markdown",
   "metadata": {},
   "source": [
    "Now we setup up the simulation stage. Note - in this example we will set up a timestep that is ten times larger (0.1 h) than the old data file so that we can see the differences, if any."
   ]
  },
  {
   "cell_type": "code",
   "execution_count": 8,
   "metadata": {},
   "outputs": [],
   "source": [
    "stage1.title = \"Found a bug - have to have a title?\"\n",
    "stage1.simulation_mode = \"withdrawal\"\n",
    "stage1.brine_injection_sg = 1.003  # sg\n",
    "stage1.brine_injection_rate = 100000  # bbl/d\n",
    "stage1.brine_injection_depth = 15  # ft MD\n",
    "stage1.brine_interface_depth = 37  # ft MD\n",
    "stage1.injection_duration = 360  # h\n",
    "stage1.rest_duration = 2520  # h\n",
    "stage1.inner_tbg_inside_diam = 9.85  # in\n",
    "stage1.inner_tbg_outside_diam = 10.75  # in\n",
    "stage1.outer_csg_inside_diam = 9.85  # in\n",
    "stage1.outer_csg_outside_diam = 10.75  # in\n",
    "stage1.set_cavern_sg = 1.2019  # starting cavern SG\n",
    "stage1.solver_timestep = 0.1  # h\n",
    "stage1.save_frequency = 120  # timesteps (120 ts x 0.1 h/ts = 12 h)"
   ]
  },
  {
   "cell_type": "markdown",
   "metadata": {},
   "source": [
    "Let's save this new scenario in a TOML file, and then read it back in to see how it was formatted."
   ]
  },
  {
   "cell_type": "code",
   "execution_count": null,
   "metadata": {},
   "outputs": [],
   "source": [
    "sansmic.io.write_scenario(test2scen, \"scratch.toml\")\n",
    "with open(\"scratch.toml\", \"r\") as fin:\n",
    "    for line in fin.readlines():\n",
    "        print(line.strip())"
   ]
  },
  {
   "cell_type": "markdown",
   "metadata": {},
   "source": [
    "Now let's run this simulation through a python iterator. This allows us to pull out results at any time we want to request them by using the ``get_current_state`` function."
   ]
  },
  {
   "cell_type": "code",
   "execution_count": null,
   "metadata": {},
   "outputs": [],
   "source": [
    "with test2scen.new_simulation(\"scratch\", verbosity=1) as sim2:\n",
    "    print(\"\"\"         t_d        V_inj        V_cav       sg_ave\"\"\")\n",
    "    print(\"\"\"      ------  -----------  -----------  -----------\"\"\")\n",
    "    for stage, step in sim2.steps:\n",
    "        if step % 2400 == 0:\n",
    "            res = sim2.get_current_state()\n",
    "            print(\n",
    "                res.df_t_1D.loc[:, [\"t_d\", \"V_inj\", \"V_cav\", \"sg_ave\"]].to_string(\n",
    "                    header=False, float_format=\"%12.4g\", index=False\n",
    "                )\n",
    "            )\n",
    "test2results = sim2.results"
   ]
  },
  {
   "cell_type": "code",
   "execution_count": null,
   "metadata": {},
   "outputs": [],
   "source": [
    "test2results.df_t_1D.V_cav.plot()"
   ]
  },
  {
   "cell_type": "code",
   "execution_count": null,
   "metadata": {},
   "outputs": [],
   "source": [
    "ax1 = test1results.df_t_1D.plot(y=\"sg_ave\", x=\"t_d\", label=\"Test 1 sg ave\", marker=\".\")\n",
    "ax2 = test1results.df_t_1D.plot(y=\"err_ode\", x=\"t_d\", label=\"Test 1 ODE err\", marker=\".\")\n",
    "test2results.df_t_1D.plot(ax=ax1, y=\"sg_ave\", x=\"t_d\", label=\"Test 2 sg ave\", marker=\".\")\n",
    "test2results.df_t_1D.plot(ax=ax2, y=\"err_ode\", x=\"t_d\", label=\"Test 2 ODE err\", marker=\".\")"
   ]
  },
  {
   "cell_type": "markdown",
   "metadata": {},
   "source": [
    "## Running from the command line\n",
    "Jupyter is not a great way to demonstrate how to run sansmic from the command line; however, it is still possible to do so. The following code simulates the execution of the following command:\n",
    "\n",
    "``sansmic old.dat -o cmdlineTest --no-json --no-hdf``\n",
    "\n",
    "Try adding \"-v\" or \"-vv\" at the end of the list to see the difference."
   ]
  },
  {
   "cell_type": "code",
   "execution_count": null,
   "metadata": {},
   "outputs": [],
   "source": [
    "import sansmic.app\n",
    "\n",
    "\n",
    "\n",
    "resultsCmdLine = sansmic.app.main(\n",
    "    [\n",
    "        \"old.dat\",\n",
    "        \"-o\",\n",
    "        \"cmdlineTest\",\n",
    "        \"--no-json\",\n",
    "        \"--no-hdf\",\n",
    "    ],\n",
    "    ret=True,\n",
    ")"
   ]
  },
  {
   "cell_type": "code",
   "execution_count": null,
   "metadata": {},
   "outputs": [],
   "source": [
    "resultsCmdLine.df_t_1D.loc[[0, len(resultsCmdLine.time) - 1]].to_dict()"
   ]
  },
  {
   "cell_type": "markdown",
   "metadata": {},
   "source": [
    "## Multi-stage model\n",
    "Now, let's try running a model with several leaching stages. Consider the following scenario:\n",
    "\n",
    "A site is delivering 5 MMbbl of oil as ten 500 Mbbl cargos (taking 20 hours to deliver each cargo). There are two days of downtime between deliveries. \n",
    "The stream is blended between three different caverns, and our cavern of interest is only responsible for delivering 7500 bbl/h. The starting geometry\n",
    "will be the one we put in \"scratch.geom\", earlier. At the end, we will give the cavern an additional 90 days to equilibrate."
   ]
  },
  {
   "cell_type": "code",
   "execution_count": 15,
   "metadata": {},
   "outputs": [],
   "source": [
    "tenCargos = sansmic.model.Scenario(\n",
    "    title=\"Simple example\",\n",
    "    cavern_height=2000.0,  # z-domain = [0, 1000] ft\n",
    "    floor_depth=4000.0,  # TD = 4000 ft MD\n",
    "    num_cells=200,  # 200 cells (10 ft high)\n",
    ")\n",
    "tenCargos.insolubles_ratio = 0.04\n",
    "tenCargos.geometry_format = sansmic.model.GeometryFormat.RADIUS_LIST\n",
    "tenCargos.geometry_data = \"scratch.geom\"\n",
    "\n",
    "# Set some of these as default values for each stage\n",
    "tenCargos.defaults = dict(\n",
    "    inner_tbg_inside_diam=9.85,  # in\n",
    "    inner_tbg_outside_diam=10.75,  # in\n",
    "    outer_csg_inside_diam=9.85,  # in\n",
    "    outer_csg_outside_diam=10.75,  # in\n",
    "    solver_timestep=0.1,  # h\n",
    "    save_frequency=10,  # save every hour\n",
    ")\n",
    "\n",
    "for i in range(10):\n",
    "    stage = tenCargos.new_stage()\n",
    "    stage.title = \"Cargo number {}\".format(i)\n",
    "    stage.simulation_mode = \"withdrawal\"\n",
    "    stage.brine_injection_sg = 1.003  # sg\n",
    "    stage.brine_injection_rate = 7500 * 24  # bbl/h * 24 h/d\n",
    "    stage.brine_injection_depth = 15\n",
    "    stage.injection_duration = 20  # h\n",
    "    stage.rest_duration = 4 + 24 * 2  # two days downtime plus the four hours\n",
    "    if i == 0:\n",
    "        # We only want to set these on the first stage, after that we want\n",
    "        # to use what was calculated previously (i.e., leave the values None)\n",
    "        stage.brine_interface_depth = 37  # ft MD starting\n",
    "        stage.set_cavern_sg = 1.2019  # starting cavern SG\n",
    "    if i == 9:\n",
    "        # add an extra 60 days to the end\n",
    "        stage.rest_duration = stage.rest_duration + 90 * 24\n",
    "\n",
    "sansmic.io.write_scenario(tenCargos, \"tenCargos.toml\")\n",
    "\n",
    "# run the model\n",
    "with tenCargos.new_simulation(\"tenCargos\", verbosity=0) as sim3:\n",
    "    sim3.run_sim()\n",
    "tenCargoResults = sim3.results"
   ]
  },
  {
   "cell_type": "code",
   "execution_count": null,
   "metadata": {},
   "outputs": [],
   "source": [
    "# plot some overview statistics for performance analysis\n",
    "ax0 = tenCargoResults.df_t_1D.plot(y=\"V_cav\", x=\"t_d\", label=\"Cavern volume\", marker=\".\")\n",
    "ax1 = tenCargoResults.df_t_1D.plot(y=\"sg_ave\", x=\"t_d\", label=\"Average cavern sg\", marker=\".\")\n",
    "ax2 = tenCargoResults.df_t_1D.plot(y=\"err_ode\", x=\"t_d\", label=\"ODE err\", marker=\".\")"
   ]
  },
  {
   "cell_type": "markdown",
   "metadata": {},
   "source": [
    "### Comparing the ten-cargo simulation to the all-at-once simulation\n",
    "You may have noticed that all of the different simulations have resulted in a 1.5 million barrel withdrawal from the cavern. Now we can compare the results of splitting the injection into ten cargos compared to the results if all 1.5 million barrels of raw water were injected all at once. First, we can look at the final results in a table."
   ]
  },
  {
   "cell_type": "code",
   "execution_count": null,
   "metadata": {},
   "outputs": [],
   "source": [
    "pd.DataFrame.from_dict(\n",
    "    {\n",
    "        \"single-inject\": resultsCmdLine.df_t_1D.iloc[-1, :],\n",
    "        \"ten-cargos\": tenCargoResults.df_t_1D.iloc[-1, :],\n",
    "        \"diff\": resultsCmdLine.df_t_1D.iloc[-1, :] - tenCargoResults.df_t_1D.iloc[-1, :],\n",
    "    }\n",
    ")"
   ]
  },
  {
   "cell_type": "markdown",
   "metadata": {},
   "source": [
    "The final results look very close. Most of the differences are much less than the absolute values except for the jet length, which *should* be different since there are vastly different velocities involved. So, how does the timeseries of changes look?"
   ]
  },
  {
   "cell_type": "code",
   "execution_count": null,
   "metadata": {},
   "outputs": [],
   "source": [
    "ax = resultsCmdLine.df_t_1D.plot(x=\"t_d\", y=\"sg_ave\", label=\"single-inject\")\n",
    "tenCargoResults.df_t_1D.plot(ax=ax, x=\"t_d\", y=\"sg_ave\", label=\"ten-cargo\")\n",
    "ax.set_ylabel(\"Cavern average sg\")\n",
    "ax.set_xlabel(\"Time (d)\")\n",
    "ax = resultsCmdLine.df_t_1D.plot(x=\"t_d\", y=\"V_cav\", label=\"single-inject\")\n",
    "tenCargoResults.df_t_1D.plot(ax=ax, x=\"t_d\", y=\"V_cav\", label=\"ten-cargo\")\n",
    "ax.set_ylabel(\"Cavern volume (bbl)\")\n",
    "ax.set_xlabel(\"Time (d)\")"
   ]
  },
  {
   "cell_type": "markdown",
   "metadata": {},
   "source": [
    "Finally, let's take a look at the final cavern shape. We can do this by plotting the depths against the radius for the last time period."
   ]
  },
  {
   "cell_type": "code",
   "execution_count": null,
   "metadata": {},
   "outputs": [],
   "source": [
    "plt.plot(resultsCmdLine.radius.iloc[:, -1], -resultsCmdLine.depths, label=\"single-inject\")\n",
    "plt.plot(tenCargoResults.radius.iloc[:, -1], -tenCargoResults.depths, label=\"ten-cargo\")\n",
    "plt.legend()"
   ]
  },
  {
   "cell_type": "markdown",
   "metadata": {},
   "source": [
    "These shapes are similar, but as expected, the ten-cargo method has a different slope since it has time to leach between stages. We can see this better by zooming in."
   ]
  },
  {
   "cell_type": "code",
   "execution_count": null,
   "metadata": {},
   "outputs": [],
   "source": [
    "plt.plot(resultsCmdLine.radius.iloc[:, -1], -resultsCmdLine.depths, label=\"single-inject\")\n",
    "plt.plot(tenCargoResults.radius.iloc[:, -1], -tenCargoResults.depths, label=\"ten-cargo\")\n",
    "plt.legend()\n",
    "plt.ylim(-4000, -3500)\n",
    "plt.xlim(90, 120)"
   ]
  },
  {
   "cell_type": "markdown",
   "metadata": {},
   "source": [
    "Hopefully this has been a useful introduction to using the new version of sansmic! There is an additional notebook, [regression.ipynb](regression.ipynb), that compares the old FORTRAN code results with the new results."
   ]
  }
 ],
 "metadata": {
  "kernelspec": {
   "display_name": "Python 3",
   "language": "python",
   "name": "python3"
  },
  "language_info": {
   "codemirror_mode": {
    "name": "ipython",
    "version": 3
   },
   "file_extension": ".py",
   "mimetype": "text/x-python",
   "name": "python",
   "nbconvert_exporter": "python",
   "pygments_lexer": "ipython3",
   "version": "3.12.1"
  }
 },
 "nbformat": 4,
 "nbformat_minor": 4
}
